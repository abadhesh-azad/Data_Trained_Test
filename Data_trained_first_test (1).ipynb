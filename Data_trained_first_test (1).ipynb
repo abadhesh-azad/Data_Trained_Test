{
 "cells": [
  {
   "cell_type": "code",
   "execution_count": 13,
   "id": "67f857b8",
   "metadata": {},
   "outputs": [
    {
     "name": "stdout",
     "output_type": "stream",
     "text": [
      "56\n"
     ]
    }
   ],
   "source": [
    "# Question 1.\n",
    "sampleDict={\"Country\":{\n",
    "    \"Indian Cricket Team\":{\n",
    "        \"name\":[\"Rohit\",\"Virat\",\"Rahul\",\"\"],\n",
    "        \"runs\":{\n",
    "            \"Rohit\":47,\n",
    "            \"Virat\":56,\n",
    "            \"Rahul\":66\n",
    "        }\n",
    "    }\n",
    "}}\n",
    "print(sampleDict[\"Country\"][\"Indian Cricket Team\"][\"runs\"][\"Virat\"])"
   ]
  },
  {
   "cell_type": "code",
   "execution_count": 17,
   "id": "be635e33",
   "metadata": {
    "scrolled": false
   },
   "outputs": [
    {
     "name": "stdout",
     "output_type": "stream",
     "text": [
      "No\n",
      "No\n"
     ]
    }
   ],
   "source": [
    "# 2.\n",
    "sample_dict={'a':100,'b':2800,'c':300}\n",
    "l=sample_dict.values()\n",
    "if 2700 in l:\n",
    "    print(\"yes\")\n",
    "else:\n",
    "    print(\"No\")\n",
    "# Another way\n",
    "flag=False\n",
    "for k in sample_dict.keys():\n",
    "    if sample_dict[k]==2700:\n",
    "        flag=True\n",
    "        break\n",
    "if flag==True:\n",
    "    print(\"Yes\")\n",
    "else:\n",
    "    print(\"No\")\n"
   ]
  },
  {
   "cell_type": "code",
   "execution_count": 22,
   "id": "6f63b3f6",
   "metadata": {},
   "outputs": [
    {
     "name": "stdout",
     "output_type": "stream",
     "text": [
      "{40, 50, 30}\n",
      "{40, 50, 30}\n"
     ]
    }
   ],
   "source": [
    "set1={10,20,30,40,50}\n",
    "set2={30,40,50,60,70}\n",
    "res1=set1 & set2\n",
    "print(res1)\n",
    "# Another way\n",
    "res2=set1.intersection(set2)\n",
    "print(res2)"
   ]
  },
  {
   "cell_type": "code",
   "execution_count": 18,
   "id": "00787ed9",
   "metadata": {},
   "outputs": [
    {
     "name": "stdout",
     "output_type": "stream",
     "text": [
      "[ 1  4  9 16 25 36 49]\n",
      "[1, 4, 9, 16, 25, 36, 49]\n"
     ]
    }
   ],
   "source": [
    "import numpy as np\n",
    "numbers=[1,2,3,4,5,6,7]\n",
    "arr=np.array(numbers)\n",
    "res=arr**2\n",
    "print(res)\n",
    "\n",
    "# Another way\n",
    "res=[ x**2 for x in numbers]\n",
    "print(res)\n",
    "\n"
   ]
  },
  {
   "cell_type": "code",
   "execution_count": 7,
   "id": "0f24a7de",
   "metadata": {},
   "outputs": [
    {
     "name": "stdout",
     "output_type": "stream",
     "text": [
      "{'MSD', 'Kapil', 'Sehwag', 'Surya', 'Siraj', 'Sachin'}\n"
     ]
    }
   ],
   "source": [
    "sample_set={\"Surya\",\"Kapil\",\"MSD\"}\n",
    "sample_list=[\"Sachin\",\"Siraj\",\"Sehwag\"]\n",
    "for x in sample_list:\n",
    "    sample_set.add(x)\n",
    "print(sample_set)"
   ]
  },
  {
   "cell_type": "code",
   "execution_count": 25,
   "id": "faf597c1",
   "metadata": {},
   "outputs": [
    {
     "name": "stdout",
     "output_type": "stream",
     "text": [
      "[10, 20, [300, 400, [5000, 6000, 7000], 500], 30, 40]\n"
     ]
    }
   ],
   "source": [
    "list1=[10,20,[300,400,[5000,6000],500],30,40]\n",
    "list1[2][2].append(7000)\n",
    "print(list1)"
   ]
  }
 ],
 "metadata": {
  "kernelspec": {
   "display_name": "Python 3 (ipykernel)",
   "language": "python",
   "name": "python3"
  },
  "language_info": {
   "codemirror_mode": {
    "name": "ipython",
    "version": 3
   },
   "file_extension": ".py",
   "mimetype": "text/x-python",
   "name": "python",
   "nbconvert_exporter": "python",
   "pygments_lexer": "ipython3",
   "version": "3.9.13"
  }
 },
 "nbformat": 4,
 "nbformat_minor": 5
}
